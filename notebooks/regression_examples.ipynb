{
 "cells": [
  {
   "cell_type": "markdown",
   "id": "d521c8cb-bf69-4576-a27b-e88495e8e6fd",
   "metadata": {},
   "source": [
    "## Skorch regression network examples"
   ]
  },
  {
   "cell_type": "code",
   "execution_count": 1,
   "id": "5b4942c4-d06d-4155-a658-2d73d60dc581",
   "metadata": {},
   "outputs": [],
   "source": [
    "import subprocess\n",
    "\n",
    "# Installation on Google Colab\n",
    "!git clone https://github.com/jlm429/pyperch\n",
    "from google.colab import drive\n",
    "drive.mount('/content/drive')\n",
    "import sys\n",
    "sys.path.append('/content/pyperch')\n",
    "\n",
    "try:\n",
    "    import google.colab\n",
    "    subprocess.run(['python', '-m', 'pip', 'install', 'skorch' , 'torch'])\n",
    "except ImportError:\n",
    "    pass"
   ]
  },
  {
   "cell_type": "code",
   "execution_count": 3,
   "id": "6c489a9d-6e2c-42cb-bc8d-cd9a4bfdcaa8",
   "metadata": {},
   "outputs": [],
   "source": [
    "import numpy as np\n",
    "from sklearn.datasets import make_regression\n",
    "from torch import nn, optim\n",
    "#from skorch import NeuralNetClassifier\n",
    "from skorch import NeuralNetRegressor\n",
    "from pyperch.neural.backprop_nn import BackpropModule \n",
    "import matplotlib.pyplot as plt"
   ]
  },
  {
   "cell_type": "code",
   "execution_count": null,
   "id": "fb92ec8c-4757-4a3e-a742-33d93404f527",
   "metadata": {},
   "outputs": [],
   "source": [
    "X, y = make_regression(n_samples=1000, n_features=12, n_informative=10, noise=.2)\n",
    "X = X.astype(np.float32)\n",
    "y = y.reshape(-1, 1).astype(np.float32)  # Reshape y to be a 2D array for compatibility with nn"
   ]
  },
  {
   "cell_type": "markdown",
   "id": "bb8327cc-f099-46da-99f2-561b1bfc8028",
   "metadata": {},
   "source": [
    "##### MLPClassifier vs. MLPRegressor \n",
    "\n",
    "[Chapter 6](https://www.cs.cmu.edu/afs/cs.cmu.edu/user/mitchell/ftp/mlbook.html) gives a Bayesian justification for using log loss when searching for a maximum likelihood hypothesis to predict probabilities and likewise, squared error for regression.  These loss functions are automatically selected when you use scikit learn's MLPClassifier or MLPRegressor. With PyTorch, we can select these manually.  Additionally, raw outputs are needed for regression so we'll use a linear activation instead of softmax for the output layer. "
   ]
  },
  {
   "cell_type": "code",
   "execution_count": 14,
   "id": "bdc25d7b-06e2-4d6b-81e4-24d66d19a46b",
   "metadata": {},
   "outputs": [],
   "source": [
    "from skorch.callbacks import EpochScoring \n",
    "\n",
    "net = NeuralNetRegressor(\n",
    "    module=BackpropModule,\n",
    "    module__input_dim=12,\n",
    "    module__output_dim=1,\n",
    "    module__hidden_units=64,\n",
    "    module__hidden_layers=1,\n",
    "    #module__dropout_percent=0.1,\n",
    "    module__activation=nn.LeakyReLU(),\n",
    "    module__output_activation=lambda x: x,\n",
    "    max_epochs=100,\n",
    "    verbose=1,\n",
    "    callbacks=[EpochScoring(scoring='neg_mean_squared_error', name='train_acc', on_train=True),],\n",
    "    lr=.0001,\n",
    "    iterator_train__shuffle=True,\n",
    ")"
   ]
  },
  {
   "cell_type": "code",
   "execution_count": 16,
   "id": "73103657-1058-41b7-bac3-38a2857f30a4",
   "metadata": {},
   "outputs": [
    {
     "name": "stdout",
     "output_type": "stream",
     "text": [
      "  epoch    train_acc    train_loss    valid_loss     dur\n",
      "-------  -----------  ------------  ------------  ------\n",
      "      1  \u001b[36m-27877.1816\u001b[0m    \u001b[32m27877.1824\u001b[0m    \u001b[35m24267.7816\u001b[0m  0.0287\n",
      "      2  -27868.5605    \u001b[32m27868.5603\u001b[0m    \u001b[35m24259.7666\u001b[0m  0.0224\n",
      "      3  -27857.5703    \u001b[32m27857.5698\u001b[0m    \u001b[35m24250.1880\u001b[0m  0.0215\n",
      "      4  -27844.5371    \u001b[32m27844.5366\u001b[0m    \u001b[35m24237.2005\u001b[0m  0.0201\n",
      "      5  -27826.1719    \u001b[32m27826.1750\u001b[0m    \u001b[35m24218.8807\u001b[0m  0.0197\n",
      "      6  -27800.4121    \u001b[32m27800.4117\u001b[0m    \u001b[35m24191.6148\u001b[0m  0.0205\n",
      "      7  -27761.5254    \u001b[32m27761.5260\u001b[0m    \u001b[35m24152.4822\u001b[0m  0.0206\n",
      "      8  -27705.4082    \u001b[32m27705.4084\u001b[0m    \u001b[35m24091.0166\u001b[0m  0.0241\n",
      "      9  -27616.1484    \u001b[32m27616.1484\u001b[0m    \u001b[35m23988.9727\u001b[0m  0.0242\n",
      "     10  -27466.8457    \u001b[32m27466.8452\u001b[0m    \u001b[35m23822.5099\u001b[0m  0.0258\n",
      "     11  -27217.1758    \u001b[32m27217.1746\u001b[0m    \u001b[35m23503.6324\u001b[0m  0.0251\n",
      "     12  -26723.9941    \u001b[32m26723.9927\u001b[0m    \u001b[35m22824.9496\u001b[0m  0.0235\n",
      "     13  -25637.7617    \u001b[32m25637.7635\u001b[0m    \u001b[35m21231.6631\u001b[0m  0.0254\n",
      "     14  -22978.0293    \u001b[32m22978.0298\u001b[0m    \u001b[35m17310.0840\u001b[0m  0.0243\n",
      "     15  -16554.5020    \u001b[32m16554.5039\u001b[0m     \u001b[35m8496.7414\u001b[0m  0.0223\n",
      "     16   -5814.1377     \u001b[32m5814.1375\u001b[0m     \u001b[35m1267.5010\u001b[0m  0.0215\n",
      "     17    -936.4362      \u001b[32m936.4363\u001b[0m      \u001b[35m582.8719\u001b[0m  0.0220\n",
      "     18    -582.8321      \u001b[32m582.8321\u001b[0m      \u001b[35m497.6836\u001b[0m  0.0224\n",
      "     19    -504.6995      \u001b[32m504.6995\u001b[0m      \u001b[35m412.8804\u001b[0m  0.0192\n",
      "     20    -431.0307      \u001b[32m431.0307\u001b[0m      \u001b[35m346.6551\u001b[0m  0.0210\n",
      "     21    -362.7708      \u001b[32m362.7707\u001b[0m      \u001b[35m321.2373\u001b[0m  0.0225\n",
      "     22    -305.4468      \u001b[32m305.4468\u001b[0m      \u001b[35m236.2523\u001b[0m  0.0195\n",
      "     23    -265.4024      \u001b[32m265.4024\u001b[0m      \u001b[35m215.3976\u001b[0m  0.0209\n",
      "     24    -246.0380      \u001b[32m246.0380\u001b[0m      \u001b[35m208.1498\u001b[0m  0.0224\n",
      "     25    -235.2633      \u001b[32m235.2633\u001b[0m      \u001b[35m181.6405\u001b[0m  0.0198\n",
      "     26    -221.0813      \u001b[32m221.0812\u001b[0m      \u001b[35m179.5672\u001b[0m  0.0234\n",
      "     27    -210.7255      \u001b[32m210.7255\u001b[0m      \u001b[35m171.7482\u001b[0m  0.0204\n",
      "     28    -201.7608      \u001b[32m201.7608\u001b[0m      179.1582  0.0197\n",
      "     29    -195.2121      \u001b[32m195.2121\u001b[0m      174.0229  0.0289\n",
      "     30    -189.2617      \u001b[32m189.2617\u001b[0m      178.8806  0.0243\n",
      "     31    -179.1044      \u001b[32m179.1043\u001b[0m      \u001b[35m163.0984\u001b[0m  0.0181\n",
      "     32    -172.0420      \u001b[32m172.0420\u001b[0m      \u001b[35m145.5768\u001b[0m  0.0249\n",
      "     33    -162.8192      \u001b[32m162.8192\u001b[0m      \u001b[35m143.5739\u001b[0m  0.0248\n",
      "     34    -157.2846      \u001b[32m157.2846\u001b[0m      147.5289  0.0260\n",
      "     35    -149.7907      \u001b[32m149.7907\u001b[0m      \u001b[35m124.3774\u001b[0m  0.0242\n",
      "     36    -144.7186      \u001b[32m144.7186\u001b[0m      \u001b[35m118.6985\u001b[0m  0.0266\n",
      "     37    -136.8571      \u001b[32m136.8571\u001b[0m      \u001b[35m114.6118\u001b[0m  0.0242\n",
      "     38    -130.7919      \u001b[32m130.7919\u001b[0m      \u001b[35m114.5330\u001b[0m  0.0205\n",
      "     39    -125.2556      \u001b[32m125.2556\u001b[0m      \u001b[35m112.1789\u001b[0m  0.0251\n",
      "     40    -121.2020      \u001b[32m121.2021\u001b[0m      \u001b[35m109.6697\u001b[0m  0.0248\n",
      "     41    -117.1820      \u001b[32m117.1820\u001b[0m      \u001b[35m102.0332\u001b[0m  0.0258\n",
      "     42    -109.5683      \u001b[32m109.5683\u001b[0m      104.9038  0.0214\n",
      "     43    -105.5308      \u001b[32m105.5308\u001b[0m       \u001b[35m93.6755\u001b[0m  0.0251\n",
      "     44     -98.9286       \u001b[32m98.9286\u001b[0m       \u001b[35m90.1148\u001b[0m  0.0260\n",
      "     45     -96.7499       \u001b[32m96.7499\u001b[0m       \u001b[35m82.3658\u001b[0m  0.0698\n",
      "     46     -90.0891       \u001b[32m90.0891\u001b[0m       \u001b[35m81.9621\u001b[0m  0.0331\n",
      "     47     -85.2883       \u001b[32m85.2883\u001b[0m       88.1278  0.0293\n",
      "     48     -81.6531       \u001b[32m81.6531\u001b[0m       \u001b[35m73.0658\u001b[0m  0.0343\n",
      "     49     -78.0429       \u001b[32m78.0429\u001b[0m       \u001b[35m71.7168\u001b[0m  0.0237\n",
      "     50     -74.2413       \u001b[32m74.2413\u001b[0m       \u001b[35m69.0441\u001b[0m  0.0202\n",
      "     51     -71.2332       \u001b[32m71.2332\u001b[0m       \u001b[35m66.2674\u001b[0m  0.0250\n",
      "     52     -67.5684       \u001b[32m67.5684\u001b[0m       \u001b[35m64.7227\u001b[0m  0.0216\n",
      "     53     -64.3867       \u001b[32m64.3867\u001b[0m       \u001b[35m61.2372\u001b[0m  0.0254\n",
      "     54     -61.1883       \u001b[32m61.1883\u001b[0m       \u001b[35m59.4634\u001b[0m  0.0210\n",
      "     55     -58.1073       \u001b[32m58.1073\u001b[0m       \u001b[35m58.5207\u001b[0m  0.0209\n",
      "     56     -56.4097       \u001b[32m56.4097\u001b[0m       \u001b[35m53.9384\u001b[0m  0.0269\n",
      "     57     -53.4612       \u001b[32m53.4612\u001b[0m       55.6972  0.0260\n",
      "     58     -51.4408       \u001b[32m51.4408\u001b[0m       \u001b[35m52.3174\u001b[0m  0.0217\n",
      "     59     -47.9331       \u001b[32m47.9331\u001b[0m       \u001b[35m48.7128\u001b[0m  0.0185\n",
      "     60     -46.3625       \u001b[32m46.3625\u001b[0m       49.8945  0.0230\n",
      "     61     -44.1891       \u001b[32m44.1891\u001b[0m       \u001b[35m47.8050\u001b[0m  0.0220\n",
      "     62     -41.5088       \u001b[32m41.5088\u001b[0m       \u001b[35m44.3561\u001b[0m  0.0205\n",
      "     63     -40.4340       \u001b[32m40.4340\u001b[0m       \u001b[35m43.9363\u001b[0m  0.0239\n",
      "     64     -37.8168       \u001b[32m37.8168\u001b[0m       \u001b[35m40.7000\u001b[0m  0.0222\n",
      "     65     -36.6412       \u001b[32m36.6412\u001b[0m       \u001b[35m40.0645\u001b[0m  0.0210\n",
      "     66     -35.0207       \u001b[32m35.0207\u001b[0m       \u001b[35m38.3102\u001b[0m  0.0210\n",
      "     67     -34.2043       \u001b[32m34.2043\u001b[0m       44.4909  0.0220\n",
      "     68     -33.1406       \u001b[32m33.1406\u001b[0m       \u001b[35m36.4330\u001b[0m  0.0288\n",
      "     69     -31.1048       \u001b[32m31.1048\u001b[0m       \u001b[35m35.8725\u001b[0m  0.0199\n",
      "     70     -29.8925       \u001b[32m29.8925\u001b[0m       \u001b[35m34.7930\u001b[0m  0.0257\n",
      "     71     -28.9469       \u001b[32m28.9469\u001b[0m       \u001b[35m33.7834\u001b[0m  0.0279\n",
      "     72     -27.6078       \u001b[32m27.6078\u001b[0m       \u001b[35m32.8479\u001b[0m  0.0219\n",
      "     73     -26.9643       \u001b[32m26.9643\u001b[0m       \u001b[35m32.3038\u001b[0m  0.0224\n",
      "     74     -25.9858       \u001b[32m25.9858\u001b[0m       \u001b[35m31.7684\u001b[0m  0.0226\n",
      "     75     -24.8468       \u001b[32m24.8468\u001b[0m       \u001b[35m31.4080\u001b[0m  0.0213\n",
      "     76     -24.2987       \u001b[32m24.2987\u001b[0m       \u001b[35m30.6035\u001b[0m  0.0211\n",
      "     77     -23.3822       \u001b[32m23.3822\u001b[0m       \u001b[35m29.5275\u001b[0m  0.0188\n",
      "     78     -22.4624       \u001b[32m22.4624\u001b[0m       \u001b[35m27.8922\u001b[0m  0.0215\n",
      "     79     -21.9103       \u001b[32m21.9103\u001b[0m       \u001b[35m27.7674\u001b[0m  0.0209\n",
      "     80     -21.1920       \u001b[32m21.1920\u001b[0m       \u001b[35m26.8458\u001b[0m  0.0231\n",
      "     81     -20.5002       \u001b[32m20.5002\u001b[0m       \u001b[35m26.1182\u001b[0m  0.0188\n",
      "     82     -20.2065       \u001b[32m20.2065\u001b[0m       26.4327  0.0214\n",
      "     83     -19.9447       \u001b[32m19.9447\u001b[0m       \u001b[35m25.5358\u001b[0m  0.0252\n",
      "     84     -19.0702       \u001b[32m19.0702\u001b[0m       \u001b[35m24.8625\u001b[0m  0.0263\n",
      "     85     -18.5612       \u001b[32m18.5612\u001b[0m       \u001b[35m24.1728\u001b[0m  0.0302\n",
      "     86     -18.1632       \u001b[32m18.1632\u001b[0m       25.0570  0.0229\n",
      "     87     -17.9449       \u001b[32m17.9449\u001b[0m       \u001b[35m24.1720\u001b[0m  0.0253\n",
      "     88     -17.0672       \u001b[32m17.0672\u001b[0m       \u001b[35m23.3076\u001b[0m  0.0251\n",
      "     89     -16.8704       \u001b[32m16.8704\u001b[0m       23.3846  0.0244\n",
      "     90     -16.4858       \u001b[32m16.4858\u001b[0m       24.7785  0.0319\n",
      "     91     -16.3053       \u001b[32m16.3053\u001b[0m       \u001b[35m21.9149\u001b[0m  0.0221\n",
      "     92     -15.7715       \u001b[32m15.7715\u001b[0m       23.8822  0.0188\n",
      "     93     -15.6991       \u001b[32m15.6991\u001b[0m       22.0101  0.0213\n",
      "     94     -15.0185       \u001b[32m15.0185\u001b[0m       \u001b[35m21.6034\u001b[0m  0.0265\n",
      "     95     -14.7793       \u001b[32m14.7793\u001b[0m       \u001b[35m21.0356\u001b[0m  0.0182\n",
      "     96     -14.5275       \u001b[32m14.5275\u001b[0m       21.5013  0.0223\n",
      "     97     -14.4903       \u001b[32m14.4903\u001b[0m       \u001b[35m20.7964\u001b[0m  0.0242\n",
      "     98     -14.0493       \u001b[32m14.0493\u001b[0m       20.8025  0.0228\n",
      "     99     -13.8336       \u001b[32m13.8336\u001b[0m       \u001b[35m19.9708\u001b[0m  0.0223\n",
      "    100     -13.5676       \u001b[32m13.5676\u001b[0m       20.9638  0.0211\n"
     ]
    },
    {
     "data": {
      "text/plain": [
       "<class 'skorch.regressor.NeuralNetRegressor'>[initialized](\n",
       "  module_=BackpropModule(\n",
       "    (dropout): Dropout(p=0, inplace=False)\n",
       "    (activation): LeakyReLU(negative_slope=0.01)\n",
       "    (layers): ModuleList(\n",
       "      (0): Linear(in_features=12, out_features=64, bias=True)\n",
       "      (1): Linear(in_features=64, out_features=64, bias=True)\n",
       "      (2): Linear(in_features=64, out_features=1, bias=True)\n",
       "    )\n",
       "  ),\n",
       ")"
      ]
     },
     "execution_count": 16,
     "metadata": {},
     "output_type": "execute_result"
    }
   ],
   "source": [
    "# fit data\n",
    "net.fit(X, y)"
   ]
  },
  {
   "cell_type": "markdown",
   "id": "f2ed2609-e7a7-4a2b-8b01-c1d2d06664d5",
   "metadata": {},
   "source": [
    "## Plot learning curves"
   ]
  },
  {
   "cell_type": "code",
   "execution_count": 17,
   "id": "58f843cf-22f9-42ce-b77f-6171e44641d0",
   "metadata": {},
   "outputs": [
    {
     "data": {
      "text/plain": [
       "<matplotlib.legend.Legend at 0x7ae9dfbf9050>"
      ]
     },
     "execution_count": 17,
     "metadata": {},
     "output_type": "execute_result"
    },
    {
     "data": {
      "image/png": "[encoded data removed]",
      "text/plain": [
       "<Figure size 640x480 with 1 Axes>"
      ]
     },
     "metadata": {},
     "output_type": "display_data"
    }
   ],
   "source": [
    "# plot the iterative learning curve (loss)\n",
    "plt.plot(net.history[:, 'train_loss'], label='Train Loss', color='navy')\n",
    "plt.plot(net.history[:, 'valid_loss'], label='Validation Loss', color='lightcoral')\n",
    "plt.xlabel(\"Iteration\")\n",
    "plt.ylabel(\"Loss\")\n",
    "plt.title(\"Iterative Learning Curve (Loss)\")\n",
    "plt.grid(visible=True)\n",
    "plt.legend(frameon=False)"
   ]
  },
  {
   "cell_type": "code",
   "execution_count": null,
   "id": "8d080b1c-77ac-4e58-9af8-9a3d329f3232",
   "metadata": {},
   "outputs": [],
   "source": []
  }
 ],
 "metadata": {
  "kernelspec": {
   "display_name": "pyperch",
   "language": "python",
   "name": "pyperch"
  },
  "language_info": {
   "codemirror_mode": {
    "name": "ipython",
    "version": 3
   },
   "file_extension": ".py",
   "mimetype": "text/x-python",
   "name": "python",
   "nbconvert_exporter": "python",
   "pygments_lexer": "ipython3",
   "version": "3.11.8"
  }
 },
 "nbformat": 4,
 "nbformat_minor": 5
}
