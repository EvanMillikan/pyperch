{
 "cells": [
  {
   "cell_type": "markdown",
   "id": "8c4c699e-db6d-404c-a41b-f24d4f9879cf",
   "metadata": {},
   "source": [
    "## Skorch RHC network classification example"
   ]
  },
  {
   "cell_type": "code",
   "execution_count": null,
   "id": "5b4942c4-d06d-4155-a658-2d73d60dc581",
   "metadata": {},
   "outputs": [],
   "source": [
    "import subprocess\n",
    "\n",
    "# Installation on Google Colab\n",
    "try:\n",
    "    import google.colab\n",
    "    subprocess.run(['python', '-m', 'pip', 'install', 'skorch' , 'torch'])\n",
    "except ImportError:\n",
    "    pass"
   ]
  },
  {
   "cell_type": "code",
   "execution_count": 1,
   "id": "6c489a9d-6e2c-42cb-bc8d-cd9a4bfdcaa8",
   "metadata": {},
   "outputs": [],
   "source": [
    "import numpy as np\n",
    "from sklearn.datasets import make_classification\n",
    "import torch\n",
    "from torch import nn\n",
    "from skorch import NeuralNetClassifier\n",
    "from skorch import NeuralNet\n",
    "from pyperch.neural.rhc_nn import RHCModule  \n",
    "from pyperch.utils.decorators import add_to\n",
    "from skorch.dataset import unpack_data\n",
    "import copy"
   ]
  },
  {
   "cell_type": "code",
   "execution_count": 2,
   "id": "bdc25d7b-06e2-4d6b-81e4-24d66d19a46b",
   "metadata": {},
   "outputs": [],
   "source": [
    "X, y = make_classification(1000, 20, n_informative=10, random_state=0)\n",
    "X = X.astype(np.float32)\n",
    "y = y.astype(np.int64)\n",
    "input_dim=20\n",
    "output_dim=2\n",
    "num_units=10"
   ]
  },
  {
   "cell_type": "code",
   "execution_count": 3,
   "id": "359f8e1e-914f-4782-8eb8-fb0e54d371a6",
   "metadata": {},
   "outputs": [],
   "source": [
    "rhc_module=RHCModule(input_dim=input_dim, output_dim=output_dim)\n",
    "\n",
    "net = NeuralNetClassifier(\n",
    "    rhc_module,\n",
    "    max_epochs=20,\n",
    "    lr=0.1,\n",
    "    # Shuffle training data on each epoch\n",
    "    iterator_train__shuffle=True,\n",
    ")"
   ]
  },
  {
   "cell_type": "markdown",
   "id": "37bc3c56-562f-44d8-9ccc-141515a93037",
   "metadata": {},
   "source": [
    "## train_step_single override - register the RHC training step and disable backprop "
   ]
  },
  {
   "cell_type": "code",
   "execution_count": 4,
   "id": "9692c6c1-602f-44d0-b4e3-300485571b9c",
   "metadata": {},
   "outputs": [],
   "source": [
    "@add_to(NeuralNet)\n",
    "def train_step_single(self, batch, **fit_params):\n",
    "    self._set_training(True)\n",
    "    Xi, yi = unpack_data(batch)\n",
    "    y_pred = self.infer(Xi, **fit_params)\n",
    "    loss = self.get_loss(y_pred, yi, X=Xi, training=True)\n",
    "    #disable backprop and run custom training step\n",
    "    #loss.backward()\n",
    "    self.module_.run_rhc_single_step(self, loss, Xi, yi, **fit_params)\n",
    "    return {\n",
    "        'loss': loss,\n",
    "        'y_pred': y_pred,\n",
    "    }"
   ]
  },
  {
   "cell_type": "code",
   "execution_count": 5,
   "id": "73103657-1058-41b7-bac3-38a2857f30a4",
   "metadata": {},
   "outputs": [
    {
     "name": "stdout",
     "output_type": "stream",
     "text": [
      "  epoch    train_loss    valid_acc    valid_loss     dur\n",
      "-------  ------------  -----------  ------------  ------\n",
      "      1        \u001b[36m7.1045\u001b[0m       \u001b[32m0.5000\u001b[0m        \u001b[35m7.9712\u001b[0m  0.0137\n",
      "      2        7.9565       0.5000        7.9712  0.0171\n",
      "      3        7.8915       0.5000        7.9712  0.0156\n",
      "      4        7.9712       0.5000        7.9712  0.0189\n",
      "      5        7.9122       0.4950        8.0509  0.0214\n",
      "      6        8.2142       \u001b[32m0.5050\u001b[0m        \u001b[35m7.8915\u001b[0m  0.0139\n",
      "      7        8.4744       0.5000        7.9712  0.0164\n",
      "      8        8.3728       \u001b[32m0.5100\u001b[0m        \u001b[35m7.8118\u001b[0m  0.0221\n",
      "      9        8.2205       0.5000        7.9712  0.0214\n",
      "     10        8.6205       0.4800        8.2900  0.0142\n",
      "     11        7.9852       \u001b[32m0.5150\u001b[0m        \u001b[35m7.7292\u001b[0m  0.0191\n",
      "     12        8.1353       0.4500        8.7683  0.0161\n",
      "     13        7.9666       \u001b[32m0.5400\u001b[0m        \u001b[35m7.3335\u001b[0m  0.0133\n",
      "     14        8.2472       0.4450        8.8480  0.0146\n",
      "     15        8.3897       0.3800        9.8417  0.0182\n",
      "     16        8.7359       0.4500        8.7683  0.0199\n",
      "     17        8.6408       0.3550       10.2828  0.0120\n",
      "     18        8.4307       0.4450        8.8480  0.0134\n",
      "     19        8.2103       0.4650        8.5292  0.0167\n",
      "     20        8.5292       0.4500        8.7683  0.0129\n"
     ]
    },
    {
     "data": {
      "text/plain": [
       "<class 'skorch.classifier.NeuralNetClassifier'>[initialized](\n",
       "  module_=RHCModule(\n",
       "    (dense0): Linear(in_features=20, out_features=10, bias=True)\n",
       "    (nonlin): ReLU()\n",
       "    (dropout): Dropout(p=0.5, inplace=False)\n",
       "    (dense1): Linear(in_features=10, out_features=10, bias=True)\n",
       "    (output): Linear(in_features=10, out_features=2, bias=True)\n",
       "    (softmax): Softmax(dim=-1)\n",
       "  ),\n",
       ")"
      ]
     },
     "execution_count": 5,
     "metadata": {},
     "output_type": "execute_result"
    }
   ],
   "source": [
    "net.fit(X, y)"
   ]
  },
  {
   "cell_type": "markdown",
   "id": "7ae664b3-a4c8-48b5-aa91-05c160e68a26",
   "metadata": {},
   "source": [
    "## Using sklearn pipeline with RO"
   ]
  },
  {
   "cell_type": "code",
   "execution_count": 6,
   "id": "f1301a1b-8a82-4c68-9172-aebbfd6cec3d",
   "metadata": {},
   "outputs": [
    {
     "name": "stdout",
     "output_type": "stream",
     "text": [
      "Re-initializing module.\n",
      "Re-initializing criterion.\n",
      "Re-initializing optimizer.\n",
      "  epoch    train_loss    valid_acc    valid_loss     dur\n",
      "-------  ------------  -----------  ------------  ------\n",
      "      1        \u001b[36m8.3720\u001b[0m       \u001b[32m0.4900\u001b[0m        \u001b[35m8.1306\u001b[0m  0.0160\n",
      "      2        \u001b[36m8.1358\u001b[0m       \u001b[32m0.5050\u001b[0m        \u001b[35m7.8334\u001b[0m  0.0197\n",
      "      3        \u001b[36m7.9327\u001b[0m       0.5050        7.8915  0.0206\n",
      "      4        8.1904       \u001b[32m0.5100\u001b[0m        \u001b[35m7.8118\u001b[0m  0.0175\n",
      "      5        8.3299       0.4850        8.2103  0.0146\n",
      "      6        7.9521       0.4800        8.2900  0.0148\n",
      "      7        8.1039       0.4650        8.5292  0.0177\n",
      "      8        8.4495       0.4850        8.2103  0.0190\n",
      "      9        \u001b[36m7.6125\u001b[0m       0.4950        8.0509  0.0133\n",
      "     10        7.6523       0.5050        7.8915  0.0174\n",
      "     11        8.0110       0.4500        8.7683  0.0184\n",
      "     12        7.9513       0.4400        8.9277  0.0178\n",
      "     13        8.1306       0.4550        8.6886  0.0155\n",
      "     14        7.7423       \u001b[32m0.5350\u001b[0m        \u001b[35m7.4132\u001b[0m  0.0167\n",
      "     15        7.6125       \u001b[32m0.5550\u001b[0m        \u001b[35m7.0944\u001b[0m  0.0195\n",
      "     16        8.0708       0.4700        8.4495  0.0198\n",
      "     17        8.0708       0.4900        8.1306  0.0146\n",
      "     18        8.1612       0.4850        8.2103  0.0122\n",
      "     19        8.1904       0.4900        8.1306  0.0190\n",
      "     20        8.2900       0.5150        7.7321  0.0169\n"
     ]
    }
   ],
   "source": [
    "from sklearn.pipeline import Pipeline\n",
    "from sklearn.preprocessing import StandardScaler\n",
    "\n",
    "pipe = Pipeline([\n",
    "    ('scale', StandardScaler()),\n",
    "    ('net', net),\n",
    "])\n",
    "\n",
    "pipe.fit(X, y)\n",
    "y_proba = pipe.predict_proba(X)"
   ]
  },
  {
   "cell_type": "markdown",
   "id": "ca651d54-9883-49e4-9e93-82c1ec55f865",
   "metadata": {},
   "source": [
    "## Using sklearn grid search with RO"
   ]
  },
  {
   "cell_type": "code",
   "execution_count": 7,
   "id": "88d0a8dc-4b2d-4d08-9cf6-3c02c69742a4",
   "metadata": {},
   "outputs": [
    {
     "name": "stdout",
     "output_type": "stream",
     "text": [
      "Fitting 3 folds for each of 8 candidates, totalling 24 fits\n",
      "[CV] END lr=0.01, max_epochs=10, module__input_dim=20, module__num_units=10, module__output_dim=2; total time=   0.1s\n",
      "[CV] END lr=0.01, max_epochs=10, module__input_dim=20, module__num_units=10, module__output_dim=2; total time=   0.1s\n",
      "[CV] END lr=0.01, max_epochs=10, module__input_dim=20, module__num_units=10, module__output_dim=2; total time=   0.1s\n",
      "[CV] END lr=0.01, max_epochs=10, module__input_dim=20, module__num_units=20, module__output_dim=2; total time=   0.1s\n",
      "[CV] END lr=0.01, max_epochs=10, module__input_dim=20, module__num_units=20, module__output_dim=2; total time=   0.1s\n",
      "[CV] END lr=0.01, max_epochs=10, module__input_dim=20, module__num_units=20, module__output_dim=2; total time=   0.1s\n",
      "[CV] END lr=0.01, max_epochs=20, module__input_dim=20, module__num_units=10, module__output_dim=2; total time=   0.2s\n",
      "[CV] END lr=0.01, max_epochs=20, module__input_dim=20, module__num_units=10, module__output_dim=2; total time=   0.2s\n",
      "[CV] END lr=0.01, max_epochs=20, module__input_dim=20, module__num_units=10, module__output_dim=2; total time=   0.2s\n",
      "[CV] END lr=0.01, max_epochs=20, module__input_dim=20, module__num_units=20, module__output_dim=2; total time=   0.2s\n",
      "[CV] END lr=0.01, max_epochs=20, module__input_dim=20, module__num_units=20, module__output_dim=2; total time=   0.2s\n",
      "[CV] END lr=0.01, max_epochs=20, module__input_dim=20, module__num_units=20, module__output_dim=2; total time=   0.2s\n",
      "[CV] END lr=0.02, max_epochs=10, module__input_dim=20, module__num_units=10, module__output_dim=2; total time=   0.1s\n",
      "[CV] END lr=0.02, max_epochs=10, module__input_dim=20, module__num_units=10, module__output_dim=2; total time=   0.1s\n",
      "[CV] END lr=0.02, max_epochs=10, module__input_dim=20, module__num_units=10, module__output_dim=2; total time=   0.1s\n",
      "[CV] END lr=0.02, max_epochs=10, module__input_dim=20, module__num_units=20, module__output_dim=2; total time=   0.1s\n",
      "[CV] END lr=0.02, max_epochs=10, module__input_dim=20, module__num_units=20, module__output_dim=2; total time=   0.1s\n",
      "[CV] END lr=0.02, max_epochs=10, module__input_dim=20, module__num_units=20, module__output_dim=2; total time=   0.1s\n",
      "[CV] END lr=0.02, max_epochs=20, module__input_dim=20, module__num_units=10, module__output_dim=2; total time=   0.1s\n",
      "[CV] END lr=0.02, max_epochs=20, module__input_dim=20, module__num_units=10, module__output_dim=2; total time=   0.1s\n",
      "[CV] END lr=0.02, max_epochs=20, module__input_dim=20, module__num_units=10, module__output_dim=2; total time=   0.1s\n",
      "[CV] END lr=0.02, max_epochs=20, module__input_dim=20, module__num_units=20, module__output_dim=2; total time=   0.2s\n",
      "[CV] END lr=0.02, max_epochs=20, module__input_dim=20, module__num_units=20, module__output_dim=2; total time=   0.2s\n",
      "[CV] END lr=0.02, max_epochs=20, module__input_dim=20, module__num_units=20, module__output_dim=2; total time=   0.2s\n",
      "best score: 0.548, best params: {'lr': 0.02, 'max_epochs': 10, 'module__input_dim': 20, 'module__num_units': 20, 'module__output_dim': 2}\n"
     ]
    }
   ],
   "source": [
    "from sklearn.model_selection import GridSearchCV\n",
    "\n",
    "# deactivate skorch-internal train-valid split and verbose logging\n",
    "net.set_params(train_split=False, verbose=0, )\n",
    "\n",
    "#can add additional RHC specific params for grid_search here\n",
    "\n",
    "params = {\n",
    "    'lr': [0.01, 0.02],\n",
    "    'max_epochs': [10, 20],\n",
    "    'module__num_units': [10, 20],\n",
    "    'module__input_dim': [20],\n",
    "    'module__output_dim': [2],\n",
    "}\n",
    "gs = GridSearchCV(net, params, refit=False, cv=3, scoring='accuracy', verbose=2)\n",
    "\n",
    "gs.fit(X, y)\n",
    "print(\"best score: {:.3f}, best params: {}\".format(gs.best_score_, gs.best_params_))"
   ]
  },
  {
   "cell_type": "code",
   "execution_count": null,
   "id": "68076c4c-6ad7-414f-a60f-ce9bf91aaeba",
   "metadata": {},
   "outputs": [],
   "source": []
  },
  {
   "cell_type": "code",
   "execution_count": null,
   "id": "28ae54ff-bb56-491d-a217-cd1bb49d5804",
   "metadata": {},
   "outputs": [],
   "source": []
  }
 ],
 "metadata": {
  "kernelspec": {
   "display_name": "pyperch",
   "language": "python",
   "name": "pyperch"
  },
  "language_info": {
   "codemirror_mode": {
    "name": "ipython",
    "version": 3
   },
   "file_extension": ".py",
   "mimetype": "text/x-python",
   "name": "python",
   "nbconvert_exporter": "python",
   "pygments_lexer": "ipython3",
   "version": "3.11.8"
  }
 },
 "nbformat": 4,
 "nbformat_minor": 5
}
