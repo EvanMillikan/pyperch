{
 "cells": [
  {
   "cell_type": "markdown",
   "id": "8c4c699e-db6d-404c-a41b-f24d4f9879cf",
   "metadata": {},
   "source": [
    "## Skorch basic classification example\n",
    "#### from skorch docs/readme - https://github.com/skorch-dev/skorch"
   ]
  },
  {
   "cell_type": "code",
   "execution_count": null,
   "id": "5b4942c4-d06d-4155-a658-2d73d60dc581",
   "metadata": {},
   "outputs": [],
   "source": [
    "import subprocess\n",
    "\n",
    "# Installation on Google Colab\n",
    "try:\n",
    "    import google.colab\n",
    "    subprocess.run(['python', '-m', 'pip', 'install', 'skorch' , 'torch'])\n",
    "except ImportError:\n",
    "    pass"
   ]
  },
  {
   "cell_type": "code",
   "execution_count": 1,
   "id": "6c489a9d-6e2c-42cb-bc8d-cd9a4bfdcaa8",
   "metadata": {},
   "outputs": [],
   "source": [
    "import numpy as np\n",
    "from sklearn.datasets import make_classification\n",
    "import torch\n",
    "from torch import nn\n",
    "from skorch import NeuralNetClassifier\n",
    "from skorch import NeuralNet\n",
    "from pyperch.utils.decorators import add_to\n",
    "from skorch.dataset import unpack_data\n",
    "import copy"
   ]
  },
  {
   "cell_type": "code",
   "execution_count": 2,
   "id": "initial_id",
   "metadata": {},
   "outputs": [
    {
     "name": "stdout",
     "output_type": "stream",
     "text": [
      "  epoch    train_loss    valid_acc    valid_loss     dur\n",
      "-------  ------------  -----------  ------------  ------\n",
      "      1        \u001b[36m0.6772\u001b[0m       \u001b[32m0.5600\u001b[0m        \u001b[35m0.6792\u001b[0m  0.0191\n",
      "      2        \u001b[36m0.6689\u001b[0m       0.5600        \u001b[35m0.6727\u001b[0m  0.0170\n",
      "      3        0.6732       \u001b[32m0.5850\u001b[0m        \u001b[35m0.6687\u001b[0m  0.0239\n",
      "      4        \u001b[36m0.6549\u001b[0m       \u001b[32m0.6050\u001b[0m        \u001b[35m0.6625\u001b[0m  0.0208\n",
      "      5        \u001b[36m0.6480\u001b[0m       0.5950        \u001b[35m0.6531\u001b[0m  0.0212\n",
      "      6        \u001b[36m0.6392\u001b[0m       \u001b[32m0.6500\u001b[0m        \u001b[35m0.6433\u001b[0m  0.0218\n",
      "      7        \u001b[36m0.6338\u001b[0m       0.6350        \u001b[35m0.6360\u001b[0m  0.0197\n",
      "      8        \u001b[36m0.6246\u001b[0m       \u001b[32m0.6800\u001b[0m        \u001b[35m0.6273\u001b[0m  0.0213\n",
      "      9        \u001b[36m0.6218\u001b[0m       \u001b[32m0.6900\u001b[0m        \u001b[35m0.6214\u001b[0m  0.0196\n",
      "     10        \u001b[36m0.6138\u001b[0m       0.6800        \u001b[35m0.6141\u001b[0m  0.0219\n",
      "     11        \u001b[36m0.5963\u001b[0m       0.6900        \u001b[35m0.6105\u001b[0m  0.0220\n",
      "     12        \u001b[36m0.5917\u001b[0m       \u001b[32m0.6950\u001b[0m        \u001b[35m0.6028\u001b[0m  0.0202\n",
      "     13        \u001b[36m0.5832\u001b[0m       \u001b[32m0.7000\u001b[0m        \u001b[35m0.5934\u001b[0m  0.0171\n",
      "     14        0.6044       \u001b[32m0.7050\u001b[0m        \u001b[35m0.5917\u001b[0m  0.0163\n",
      "     15        \u001b[36m0.5710\u001b[0m       0.6950        \u001b[35m0.5849\u001b[0m  0.0243\n",
      "     16        0.5852       \u001b[32m0.7150\u001b[0m        0.5851  0.0175\n",
      "     17        \u001b[36m0.5645\u001b[0m       0.7100        \u001b[35m0.5770\u001b[0m  0.0219\n",
      "     18        \u001b[36m0.5578\u001b[0m       \u001b[32m0.7200\u001b[0m        \u001b[35m0.5690\u001b[0m  0.0182\n",
      "     19        0.5706       0.7150        0.5690  0.0250\n",
      "     20        0.5601       0.7200        \u001b[35m0.5671\u001b[0m  0.0255\n"
     ]
    },
    {
     "data": {
      "text/plain": [
       "<class 'skorch.classifier.NeuralNetClassifier'>[initialized](\n",
       "  module_=MyModule(\n",
       "    (dense0): Linear(in_features=20, out_features=10, bias=True)\n",
       "    (nonlin): ReLU()\n",
       "    (dropout): Dropout(p=0.5, inplace=False)\n",
       "    (dense1): Linear(in_features=10, out_features=10, bias=True)\n",
       "    (output): Linear(in_features=10, out_features=2, bias=True)\n",
       "    (softmax): Softmax(dim=-1)\n",
       "  ),\n",
       ")"
      ]
     },
     "execution_count": 2,
     "metadata": {},
     "output_type": "execute_result"
    }
   ],
   "source": [
    "X, y = make_classification(1000, 20, n_informative=10, random_state=0)\n",
    "X = X.astype(np.float32)\n",
    "y = y.astype(np.int64)\n",
    "input_dim=20\n",
    "output_dim=2\n",
    "\n",
    "class MyModule(nn.Module):\n",
    "    def __init__(self, num_units=10, nonlin=nn.ReLU()):\n",
    "        super().__init__()\n",
    "\n",
    "        self.dense0 = nn.Linear(input_dim, num_units)\n",
    "        self.nonlin = nonlin\n",
    "        self.dropout = nn.Dropout(0.5)\n",
    "        self.dense1 = nn.Linear(num_units, num_units)\n",
    "        self.output = nn.Linear(num_units, output_dim)\n",
    "        self.softmax = nn.Softmax(dim=-1)\n",
    "\n",
    "    def forward(self, X, **kwargs):\n",
    "        X = self.nonlin(self.dense0(X))\n",
    "        X = self.dropout(X)\n",
    "        X = self.nonlin(self.dense1(X))\n",
    "        X = self.softmax(self.output(X))\n",
    "        return X\n",
    "\n",
    "    #warning: this is only a POC for replacing the backprop training step\n",
    "    def run_rhc_single_step(self, net, old_loss, X_train, y_train, **fit_params):\n",
    "        # Randomly perturb the weights\n",
    "        for param in net.module_.parameters():\n",
    "            param.data += torch.randn(param.data.size())\n",
    "\n",
    "net = NeuralNetClassifier(\n",
    "    MyModule,\n",
    "    max_epochs=20,\n",
    "    lr=0.1,\n",
    "    # Shuffle training data on each epoch\n",
    "    iterator_train__shuffle=True,\n",
    ")\n",
    "\n",
    "@add_to(NeuralNet)\n",
    "def train_step_single(self, batch, **fit_params):\n",
    "    self._set_training(True)\n",
    "    Xi, yi = unpack_data(batch)\n",
    "    y_pred = self.infer(Xi, **fit_params)\n",
    "    loss = self.get_loss(y_pred, yi, X=Xi, training=True)\n",
    "    loss.backward()\n",
    "    return {\n",
    "        'loss': loss,\n",
    "        'y_pred': y_pred,\n",
    "    }\n",
    "\n",
    "net.fit(X, y)\n",
    "#y_proba = net.predict_proba(X)"
   ]
  },
  {
   "cell_type": "markdown",
   "id": "c40af005-0621-4017-a880-56ba295f91b6",
   "metadata": {},
   "source": [
    "## train_step_single override - disable backprop and run single step RO"
   ]
  },
  {
   "cell_type": "code",
   "execution_count": 3,
   "id": "7abc45cb-aa66-4f9a-afb8-dda86a34db88",
   "metadata": {},
   "outputs": [
    {
     "name": "stdout",
     "output_type": "stream",
     "text": [
      "Re-initializing module.\n",
      "Re-initializing criterion.\n",
      "Re-initializing optimizer.\n",
      "  epoch    train_loss    valid_acc    valid_loss     dur\n",
      "-------  ------------  -----------  ------------  ------\n",
      "      1        \u001b[36m6.6552\u001b[0m       \u001b[32m0.5250\u001b[0m        \u001b[35m7.5281\u001b[0m  0.0207\n",
      "      2        7.7238       \u001b[32m0.5450\u001b[0m        \u001b[35m7.2538\u001b[0m  0.0175\n",
      "      3        7.5357       0.5100        7.8051  0.0188\n",
      "      4        8.8077       0.3800        9.8843  0.0173\n",
      "      5        9.2500       0.3600       10.2031  0.0149\n",
      "      6        9.1963       0.4350        9.0074  0.0191\n",
      "      7        8.3647       0.4300        9.0872  0.0192\n",
      "      8        8.7690       0.4450        8.8480  0.0120\n",
      "      9        8.3299       0.4450        8.8480  0.0160\n",
      "     10        8.6592       0.4150        9.3263  0.0113\n",
      "     11        8.4861       0.4800        8.2900  0.0138\n",
      "     12        8.4581       0.4900        8.1306  0.0132\n",
      "     13        8.5973       0.4050        9.4857  0.0202\n",
      "     14        8.7484       0.4150        9.3263  0.0144\n",
      "     15        8.4295       0.4300        9.0872  0.0182\n",
      "     16        8.3129       0.4250        9.1669  0.0206\n",
      "     17        8.0708       0.5000        7.9712  0.0152\n",
      "     18        7.9513       0.5050        7.8915  0.0217\n",
      "     19        7.9918       \u001b[32m0.5500\u001b[0m        \u001b[35m7.1741\u001b[0m  0.0212\n",
      "     20        8.3696       0.5500        7.1741  0.0179\n"
     ]
    },
    {
     "data": {
      "text/plain": [
       "<class 'skorch.classifier.NeuralNetClassifier'>[initialized](\n",
       "  module_=MyModule(\n",
       "    (dense0): Linear(in_features=20, out_features=10, bias=True)\n",
       "    (nonlin): ReLU()\n",
       "    (dropout): Dropout(p=0.5, inplace=False)\n",
       "    (dense1): Linear(in_features=10, out_features=10, bias=True)\n",
       "    (output): Linear(in_features=10, out_features=2, bias=True)\n",
       "    (softmax): Softmax(dim=-1)\n",
       "  ),\n",
       ")"
      ]
     },
     "execution_count": 3,
     "metadata": {},
     "output_type": "execute_result"
    }
   ],
   "source": [
    "@add_to(NeuralNet)\n",
    "def train_step_single(self, batch, **fit_params):\n",
    "    self._set_training(True)\n",
    "    Xi, yi = unpack_data(batch)\n",
    "    y_pred = self.infer(Xi, **fit_params)\n",
    "    loss = self.get_loss(y_pred, yi, X=Xi, training=True)\n",
    "    #disable backprop and run custom training step\n",
    "    #loss.backward()\n",
    "    self.module_.run_rhc_single_step(self, loss, Xi, yi, **fit_params)\n",
    "    return {\n",
    "        'loss': loss,\n",
    "        'y_pred': y_pred,\n",
    "    }\n",
    "    \n",
    "net.fit(X, y)"
   ]
  },
  {
   "cell_type": "markdown",
   "id": "7ae664b3-a4c8-48b5-aa91-05c160e68a26",
   "metadata": {},
   "source": [
    "## Using sklearn pipeline with RO"
   ]
  },
  {
   "cell_type": "code",
   "execution_count": 4,
   "id": "f1301a1b-8a82-4c68-9172-aebbfd6cec3d",
   "metadata": {},
   "outputs": [
    {
     "name": "stdout",
     "output_type": "stream",
     "text": [
      "Re-initializing module.\n",
      "Re-initializing criterion.\n",
      "Re-initializing optimizer.\n",
      "  epoch    train_loss    valid_acc    valid_loss     dur\n",
      "-------  ------------  -----------  ------------  ------\n",
      "      1        \u001b[36m5.9104\u001b[0m       \u001b[32m0.5450\u001b[0m        \u001b[35m7.0622\u001b[0m  0.0216\n",
      "      2        7.4245       0.5400        7.3335  0.0193\n",
      "      3        7.7064       0.4850        8.1023  0.0202\n",
      "      4        8.2736       0.4950        8.0509  0.0106\n",
      "      5        7.7185       0.5000        7.9712  0.0168\n",
      "      6        8.3648       0.4200        9.2466  0.0138\n",
      "      7        8.7790       0.4300        8.9799  0.0213\n",
      "      8        8.5292       0.4450        8.8480  0.0132\n",
      "      9        8.3698       0.4900        8.1306  0.0184\n",
      "     10        8.7043       0.4400        8.9277  0.0143\n",
      "     11        8.2198       0.4550        8.6886  0.0197\n",
      "     12        7.8749       0.4850        8.0999  0.0210\n",
      "     13        7.7974       0.5100        7.6660  0.0176\n",
      "     14        8.2497       0.4950        8.0509  0.0149\n",
      "     15        8.5293       0.4750        8.3705  0.0157\n",
      "     16        8.4893       0.4900        8.1306  0.0179\n",
      "     17        8.0709       0.4750        8.3698  0.0206\n",
      "     18        8.9676       0.4800        8.2900  0.0178\n",
      "     19        7.7520       0.4750        8.3698  0.0126\n",
      "     20        8.3498       0.5050        7.8915  0.0156\n"
     ]
    }
   ],
   "source": [
    "from sklearn.pipeline import Pipeline\n",
    "from sklearn.preprocessing import StandardScaler\n",
    "\n",
    "pipe = Pipeline([\n",
    "    ('scale', StandardScaler()),\n",
    "    ('net', net),\n",
    "])\n",
    "\n",
    "pipe.fit(X, y)\n",
    "y_proba = pipe.predict_proba(X)"
   ]
  },
  {
   "cell_type": "markdown",
   "id": "ca651d54-9883-49e4-9e93-82c1ec55f865",
   "metadata": {},
   "source": [
    "## Using sklearn grid search with RO"
   ]
  },
  {
   "cell_type": "code",
   "execution_count": 5,
   "id": "88d0a8dc-4b2d-4d08-9cf6-3c02c69742a4",
   "metadata": {},
   "outputs": [
    {
     "name": "stdout",
     "output_type": "stream",
     "text": [
      "Fitting 3 folds for each of 8 candidates, totalling 24 fits\n",
      "[CV] END .......lr=0.01, max_epochs=10, module__num_units=10; total time=   0.1s\n",
      "[CV] END .......lr=0.01, max_epochs=10, module__num_units=10; total time=   0.1s\n",
      "[CV] END .......lr=0.01, max_epochs=10, module__num_units=10; total time=   0.1s\n",
      "[CV] END .......lr=0.01, max_epochs=10, module__num_units=20; total time=   0.1s\n",
      "[CV] END .......lr=0.01, max_epochs=10, module__num_units=20; total time=   0.1s\n",
      "[CV] END .......lr=0.01, max_epochs=10, module__num_units=20; total time=   0.1s\n",
      "[CV] END .......lr=0.01, max_epochs=20, module__num_units=10; total time=   0.2s\n",
      "[CV] END .......lr=0.01, max_epochs=20, module__num_units=10; total time=   0.2s\n",
      "[CV] END .......lr=0.01, max_epochs=20, module__num_units=10; total time=   0.2s\n",
      "[CV] END .......lr=0.01, max_epochs=20, module__num_units=20; total time=   0.2s\n",
      "[CV] END .......lr=0.01, max_epochs=20, module__num_units=20; total time=   0.2s\n",
      "[CV] END .......lr=0.01, max_epochs=20, module__num_units=20; total time=   0.2s\n",
      "[CV] END .......lr=0.02, max_epochs=10, module__num_units=10; total time=   0.1s\n",
      "[CV] END .......lr=0.02, max_epochs=10, module__num_units=10; total time=   0.1s\n",
      "[CV] END .......lr=0.02, max_epochs=10, module__num_units=10; total time=   0.1s\n",
      "[CV] END .......lr=0.02, max_epochs=10, module__num_units=20; total time=   0.1s\n",
      "[CV] END .......lr=0.02, max_epochs=10, module__num_units=20; total time=   0.1s\n",
      "[CV] END .......lr=0.02, max_epochs=10, module__num_units=20; total time=   0.2s\n",
      "[CV] END .......lr=0.02, max_epochs=20, module__num_units=10; total time=   0.3s\n",
      "[CV] END .......lr=0.02, max_epochs=20, module__num_units=10; total time=   0.3s\n",
      "[CV] END .......lr=0.02, max_epochs=20, module__num_units=10; total time=   0.2s\n",
      "[CV] END .......lr=0.02, max_epochs=20, module__num_units=20; total time=   0.2s\n",
      "[CV] END .......lr=0.02, max_epochs=20, module__num_units=20; total time=   0.2s\n",
      "[CV] END .......lr=0.02, max_epochs=20, module__num_units=20; total time=   0.2s\n",
      "best score: 0.534, best params: {'lr': 0.02, 'max_epochs': 10, 'module__num_units': 10}\n"
     ]
    }
   ],
   "source": [
    "from sklearn.model_selection import GridSearchCV\n",
    "\n",
    "# deactivate skorch-internal train-valid split and verbose logging\n",
    "net.set_params(train_split=False, verbose=0)\n",
    "params = {\n",
    "    'lr': [0.01, 0.02],\n",
    "    'max_epochs': [10, 20],\n",
    "    'module__num_units': [10, 20],\n",
    "}\n",
    "gs = GridSearchCV(net, params, refit=False, cv=3, scoring='accuracy', verbose=2)\n",
    "\n",
    "gs.fit(X, y)\n",
    "print(\"best score: {:.3f}, best params: {}\".format(gs.best_score_, gs.best_params_))"
   ]
  },
  {
   "cell_type": "code",
   "execution_count": null,
   "id": "68076c4c-6ad7-414f-a60f-ce9bf91aaeba",
   "metadata": {},
   "outputs": [],
   "source": []
  }
 ],
 "metadata": {
  "kernelspec": {
   "display_name": "pyperch",
   "language": "python",
   "name": "pyperch"
  },
  "language_info": {
   "codemirror_mode": {
    "name": "ipython",
    "version": 3
   },
   "file_extension": ".py",
   "mimetype": "text/x-python",
   "name": "python",
   "nbconvert_exporter": "python",
   "pygments_lexer": "ipython3",
   "version": "3.11.8"
  }
 },
 "nbformat": 4,
 "nbformat_minor": 5
}
