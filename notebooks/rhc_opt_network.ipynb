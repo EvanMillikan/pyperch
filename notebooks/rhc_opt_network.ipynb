{
 "cells": [
  {
   "cell_type": "markdown",
   "id": "8c4c699e-db6d-404c-a41b-f24d4f9879cf",
   "metadata": {},
   "source": [
    "## Skorch RHC network classification example"
   ]
  },
  {
   "cell_type": "code",
   "execution_count": null,
   "id": "5b4942c4-d06d-4155-a658-2d73d60dc581",
   "metadata": {},
   "outputs": [],
   "source": [
    "import subprocess\n",
    "\n",
    "# Installation on Google Colab\n",
    "try:\n",
    "    import google.colab\n",
    "    subprocess.run(['python', '-m', 'pip', 'install', 'skorch' , 'torch'])\n",
    "except ImportError:\n",
    "    pass"
   ]
  },
  {
   "cell_type": "code",
   "execution_count": 1,
   "id": "6c489a9d-6e2c-42cb-bc8d-cd9a4bfdcaa8",
   "metadata": {},
   "outputs": [],
   "source": [
    "import numpy as np\n",
    "from sklearn.datasets import make_classification\n",
    "import torch\n",
    "from torch import nn\n",
    "from skorch import NeuralNetClassifier\n",
    "from skorch import NeuralNet\n",
    "from pyperch.neural.rhc_nn import RHCModule  \n",
    "from pyperch.utils.decorators import add_to\n",
    "from skorch.dataset import unpack_data\n",
    "import copy"
   ]
  },
  {
   "cell_type": "code",
   "execution_count": 2,
   "id": "bdc25d7b-06e2-4d6b-81e4-24d66d19a46b",
   "metadata": {},
   "outputs": [],
   "source": [
    "X, y = make_classification(1000, 20, n_informative=10, random_state=0)\n",
    "X = X.astype(np.float32)\n",
    "y = y.astype(np.int64)\n",
    "input_dim=20\n",
    "output_dim=2\n",
    "num_units=10"
   ]
  },
  {
   "cell_type": "code",
   "execution_count": 3,
   "id": "359f8e1e-914f-4782-8eb8-fb0e54d371a6",
   "metadata": {},
   "outputs": [],
   "source": [
    "rhc_module=RHCModule(input_dim=input_dim, output_dim=output_dim)\n",
    "\n",
    "net = NeuralNetClassifier(\n",
    "    rhc_module,\n",
    "    max_epochs=20,\n",
    "    lr=0.1,\n",
    "    # Shuffle training data on each epoch\n",
    "    iterator_train__shuffle=True,\n",
    ")"
   ]
  },
  {
   "cell_type": "markdown",
   "id": "37bc3c56-562f-44d8-9ccc-141515a93037",
   "metadata": {},
   "source": [
    "## train_step_single override - add RHC training step and disable backprop "
   ]
  },
  {
   "cell_type": "code",
   "execution_count": 4,
   "id": "9692c6c1-602f-44d0-b4e3-300485571b9c",
   "metadata": {},
   "outputs": [],
   "source": [
    "RHCModule.register_rhc_training_step()"
   ]
  },
  {
   "cell_type": "code",
   "execution_count": 5,
   "id": "73103657-1058-41b7-bac3-38a2857f30a4",
   "metadata": {},
   "outputs": [
    {
     "name": "stdout",
     "output_type": "stream",
     "text": [
      "  epoch    train_loss    valid_acc    valid_loss     dur\n",
      "-------  ------------  -----------  ------------  ------\n",
      "      1        \u001b[36m6.4767\u001b[0m       \u001b[32m0.4200\u001b[0m        \u001b[35m9.1663\u001b[0m  0.0113\n",
      "      2        7.8079       \u001b[32m0.4850\u001b[0m        \u001b[35m8.2103\u001b[0m  0.0150\n",
      "      3        7.9437       0.3750        9.9640  0.0162\n",
      "      4        9.1252       0.4200        9.2466  0.0167\n",
      "      5        9.1091       0.4350        9.0074  0.0182\n",
      "      6        8.8317       0.4350        9.0074  0.0157\n",
      "      7        8.8466       0.4200        9.2466  0.0156\n",
      "      8        8.0310       \u001b[32m0.5150\u001b[0m        \u001b[35m7.7321\u001b[0m  0.0150\n",
      "      9        7.8704       0.5050        7.8915  0.0178\n",
      "     10        7.2548       \u001b[32m0.5550\u001b[0m        \u001b[35m7.0944\u001b[0m  0.0188\n",
      "     11        7.3335       0.5100        7.8118  0.0182\n",
      "     12        7.7688       0.5200        7.6523  0.0117\n",
      "     13        7.2936       0.5200        7.6523  0.0133\n",
      "     14        7.3282       0.5550        \u001b[35m7.0944\u001b[0m  0.0117\n",
      "     15        7.6922       \u001b[32m0.5650\u001b[0m        \u001b[35m6.9349\u001b[0m  0.0098\n",
      "     16        8.4096       0.5250        7.5726  0.0159\n",
      "     17        8.3100       0.5100        7.8118  0.0150\n",
      "     18        7.7121       0.5300        7.4929  0.0201\n",
      "     19        7.2936       0.5450        7.2538  0.0123\n",
      "     20        8.1505       0.4950        8.0509  0.0110\n"
     ]
    },
    {
     "data": {
      "text/plain": [
       "<class 'skorch.classifier.NeuralNetClassifier'>[initialized](\n",
       "  module_=RHCModule(\n",
       "    (dense0): Linear(in_features=20, out_features=10, bias=True)\n",
       "    (nonlin): ReLU()\n",
       "    (dropout): Dropout(p=0.5, inplace=False)\n",
       "    (dense1): Linear(in_features=10, out_features=10, bias=True)\n",
       "    (output): Linear(in_features=10, out_features=2, bias=True)\n",
       "    (softmax): Softmax(dim=-1)\n",
       "  ),\n",
       ")"
      ]
     },
     "execution_count": 5,
     "metadata": {},
     "output_type": "execute_result"
    }
   ],
   "source": [
    "net.fit(X, y)"
   ]
  },
  {
   "cell_type": "markdown",
   "id": "7ae664b3-a4c8-48b5-aa91-05c160e68a26",
   "metadata": {},
   "source": [
    "## Using sklearn pipeline with RO"
   ]
  },
  {
   "cell_type": "code",
   "execution_count": 6,
   "id": "f1301a1b-8a82-4c68-9172-aebbfd6cec3d",
   "metadata": {},
   "outputs": [
    {
     "name": "stdout",
     "output_type": "stream",
     "text": [
      "Re-initializing module.\n",
      "Re-initializing criterion.\n",
      "Re-initializing optimizer.\n",
      "  epoch    train_loss    valid_acc    valid_loss     dur\n",
      "-------  ------------  -----------  ------------  ------\n",
      "      1        \u001b[36m8.0310\u001b[0m       \u001b[32m0.4600\u001b[0m        \u001b[35m8.6089\u001b[0m  0.0203\n",
      "      2        8.4648       \u001b[32m0.4850\u001b[0m        \u001b[35m8.2103\u001b[0m  0.0237\n",
      "      3        8.4893       \u001b[32m0.4900\u001b[0m        \u001b[35m8.1306\u001b[0m  0.0184\n",
      "      4        \u001b[36m7.8317\u001b[0m       0.4650        8.4777  0.0148\n",
      "      5        8.0509       0.4900        \u001b[35m8.1306\u001b[0m  0.0159\n",
      "      6        8.2669       \u001b[32m0.5150\u001b[0m        \u001b[35m7.7321\u001b[0m  0.0160\n",
      "      7        8.1904       \u001b[32m0.5350\u001b[0m        \u001b[35m7.4132\u001b[0m  0.0127\n",
      "      8        8.2900       0.4900        8.1306  0.0184\n",
      "      9        8.4122       0.5100        7.8118  0.0252\n",
      "     10        8.1505       0.4700        8.4495  0.0276\n",
      "     11        \u001b[36m7.7121\u001b[0m       0.5000        7.9712  0.0299\n",
      "     12        8.0310       0.5200        7.6523  0.0260\n",
      "     13        8.2502       0.5200        7.6523  0.0178\n",
      "     14        8.1705       0.5250        7.5726  0.0202\n",
      "     15        \u001b[36m7.6324\u001b[0m       \u001b[32m0.5450\u001b[0m        \u001b[35m7.2538\u001b[0m  0.0181\n",
      "     16        8.0110       0.5350        7.4132  0.0151\n",
      "     17        \u001b[36m7.6324\u001b[0m       0.5100        7.8118  0.0147\n",
      "     18        8.1306       0.5150        7.7321  0.0171\n",
      "     19        7.7918       0.4950        8.0509  0.0168\n",
      "     20        7.8716       0.4950        8.0509  0.0169\n"
     ]
    }
   ],
   "source": [
    "from sklearn.pipeline import Pipeline\n",
    "from sklearn.preprocessing import StandardScaler\n",
    "\n",
    "pipe = Pipeline([\n",
    "    ('scale', StandardScaler()),\n",
    "    ('net', net),\n",
    "])\n",
    "\n",
    "pipe.fit(X, y)\n",
    "y_proba = pipe.predict_proba(X)"
   ]
  },
  {
   "cell_type": "markdown",
   "id": "ca651d54-9883-49e4-9e93-82c1ec55f865",
   "metadata": {},
   "source": [
    "## Using sklearn grid search with RO"
   ]
  },
  {
   "cell_type": "code",
   "execution_count": 12,
   "id": "88d0a8dc-4b2d-4d08-9cf6-3c02c69742a4",
   "metadata": {},
   "outputs": [
    {
     "name": "stdout",
     "output_type": "stream",
     "text": [
      "Fitting 3 folds for each of 8 candidates, totalling 24 fits\n",
      "[CV] END lr=0.01, max_epochs=10, module__input_dim=20, module__num_units=10, module__output_dim=2; total time=   0.1s\n",
      "[CV] END lr=0.01, max_epochs=10, module__input_dim=20, module__num_units=10, module__output_dim=2; total time=   0.1s\n",
      "[CV] END lr=0.01, max_epochs=10, module__input_dim=20, module__num_units=10, module__output_dim=2; total time=   0.1s\n",
      "[CV] END lr=0.01, max_epochs=10, module__input_dim=20, module__num_units=20, module__output_dim=2; total time=   0.1s\n",
      "[CV] END lr=0.01, max_epochs=10, module__input_dim=20, module__num_units=20, module__output_dim=2; total time=   0.1s\n",
      "[CV] END lr=0.01, max_epochs=10, module__input_dim=20, module__num_units=20, module__output_dim=2; total time=   0.1s\n",
      "[CV] END lr=0.01, max_epochs=20, module__input_dim=20, module__num_units=10, module__output_dim=2; total time=   0.1s\n",
      "[CV] END lr=0.01, max_epochs=20, module__input_dim=20, module__num_units=10, module__output_dim=2; total time=   0.1s\n",
      "[CV] END lr=0.01, max_epochs=20, module__input_dim=20, module__num_units=10, module__output_dim=2; total time=   0.1s\n",
      "[CV] END lr=0.01, max_epochs=20, module__input_dim=20, module__num_units=20, module__output_dim=2; total time=   0.2s\n",
      "[CV] END lr=0.01, max_epochs=20, module__input_dim=20, module__num_units=20, module__output_dim=2; total time=   0.2s\n",
      "[CV] END lr=0.01, max_epochs=20, module__input_dim=20, module__num_units=20, module__output_dim=2; total time=   0.2s\n",
      "[CV] END lr=0.02, max_epochs=10, module__input_dim=20, module__num_units=10, module__output_dim=2; total time=   0.1s\n",
      "[CV] END lr=0.02, max_epochs=10, module__input_dim=20, module__num_units=10, module__output_dim=2; total time=   0.1s\n",
      "[CV] END lr=0.02, max_epochs=10, module__input_dim=20, module__num_units=10, module__output_dim=2; total time=   0.1s\n",
      "[CV] END lr=0.02, max_epochs=10, module__input_dim=20, module__num_units=20, module__output_dim=2; total time=   0.1s\n",
      "[CV] END lr=0.02, max_epochs=10, module__input_dim=20, module__num_units=20, module__output_dim=2; total time=   0.1s\n",
      "[CV] END lr=0.02, max_epochs=10, module__input_dim=20, module__num_units=20, module__output_dim=2; total time=   0.1s\n",
      "[CV] END lr=0.02, max_epochs=20, module__input_dim=20, module__num_units=10, module__output_dim=2; total time=   0.2s\n",
      "[CV] END lr=0.02, max_epochs=20, module__input_dim=20, module__num_units=10, module__output_dim=2; total time=   0.2s\n",
      "[CV] END lr=0.02, max_epochs=20, module__input_dim=20, module__num_units=10, module__output_dim=2; total time=   0.2s\n",
      "[CV] END lr=0.02, max_epochs=20, module__input_dim=20, module__num_units=20, module__output_dim=2; total time=   0.2s\n",
      "[CV] END lr=0.02, max_epochs=20, module__input_dim=20, module__num_units=20, module__output_dim=2; total time=   0.2s\n",
      "[CV] END lr=0.02, max_epochs=20, module__input_dim=20, module__num_units=20, module__output_dim=2; total time=   0.2s\n",
      "best score: 0.571, best params: {'lr': 0.02, 'max_epochs': 20, 'module__input_dim': 20, 'module__num_units': 10, 'module__output_dim': 2}\n"
     ]
    }
   ],
   "source": [
    "from sklearn.model_selection import GridSearchCV\n",
    "\n",
    "# deactivate skorch-internal train-valid split and verbose logging\n",
    "net.set_params(train_split=False, verbose=0, )\n",
    "\n",
    "default_params = {\n",
    "    'module__input_dim': [20],\n",
    "    'module__output_dim': [2],\n",
    "}\n",
    "\n",
    "grid_search_params = {\n",
    "    'lr': [0.01, 0.02],\n",
    "    'max_epochs': [10, 20],\n",
    "    'module__num_units': [10, 20],\n",
    "    **default_params,\n",
    "}\n",
    "\n",
    "gs = GridSearchCV(net, grid_search_params, refit=False, cv=3, scoring='accuracy', verbose=2)\n",
    "\n",
    "gs.fit(X, y)\n",
    "print(\"best score: {:.3f}, best params: {}\".format(gs.best_score_, gs.best_params_))"
   ]
  },
  {
   "cell_type": "code",
   "execution_count": null,
   "id": "68076c4c-6ad7-414f-a60f-ce9bf91aaeba",
   "metadata": {},
   "outputs": [],
   "source": []
  },
  {
   "cell_type": "code",
   "execution_count": null,
   "id": "28ae54ff-bb56-491d-a217-cd1bb49d5804",
   "metadata": {},
   "outputs": [],
   "source": []
  }
 ],
 "metadata": {
  "kernelspec": {
   "display_name": "pyperch",
   "language": "python",
   "name": "pyperch"
  },
  "language_info": {
   "codemirror_mode": {
    "name": "ipython",
    "version": 3
   },
   "file_extension": ".py",
   "mimetype": "text/x-python",
   "name": "python",
   "nbconvert_exporter": "python",
   "pygments_lexer": "ipython3",
   "version": "3.11.8"
  }
 },
 "nbformat": 4,
 "nbformat_minor": 5
}
